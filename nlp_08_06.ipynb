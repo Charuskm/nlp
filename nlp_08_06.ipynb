{
 "cells": [
  {
   "cell_type": "markdown",
   "id": "09bc18f0",
   "metadata": {},
   "source": [
    "Roll:No:225229106"
   ]
  },
  {
   "cell_type": "markdown",
   "id": "26dbd50e",
   "metadata": {},
   "source": [
    "# LAB 8 . EXPLORING POS OF LARGE TEXT FILES"
   ]
  },
  {
   "cell_type": "markdown",
   "id": "280bdcd9",
   "metadata": {},
   "source": [
    "## Exercise-1"
   ]
  },
  {
   "cell_type": "code",
   "execution_count": 1,
   "id": "a50801c6",
   "metadata": {},
   "outputs": [],
   "source": [
    "import pandas as pd"
   ]
  },
  {
   "cell_type": "code",
   "execution_count": 2,
   "id": "ad3d57cb",
   "metadata": {},
   "outputs": [
    {
     "name": "stdout",
     "output_type": "stream",
     "text": [
      "Lumet's origins as a director of teledrama may well be obvious here in his first film, but there is no denying the suitability of his style - sweaty close-ups, gritty monochrome 'realism', one-set claustrophobia - to his subject. Scripted by Reginald Rose from his own teleplay, the story is pretty contrived - during a murder trial, one man's doubts about the accused's guilt gradually overcome the rather less-than-democratic prejudices of the other eleven members of the jury - but the treatment is tense, lucid, and admirably economical. Fonda, though typecast as the bastion of liberalism, gives a nicely underplayed performance, while Cobb, Marshall and Begley in particular are highly effective in support. But what really transforms the piece from a rather talky demonstration that a man is innocent until proven guilty, is the consistently taut, sweltering atmosphere, created largely by Boris Kaufman's excellent camerawork. The result, however devoid of action, is a strangely realistic thriller.\n"
     ]
    }
   ],
   "source": [
    "txt1 = open(\"12 Angry Men.txt\", \"r\")\n",
    "txt1 = txt1.read()\n",
    "print(txt1)"
   ]
  },
  {
   "cell_type": "code",
   "execution_count": 16,
   "id": "752816dd",
   "metadata": {},
   "outputs": [],
   "source": [
    "import glob\n",
    "import nltk\n",
    "import pandas as pd\n",
    "from nltk import *\n",
    "from zipfile import ZipFile\n",
    "from nltk.corpus import stopwords"
   ]
  },
  {
   "cell_type": "code",
   "execution_count": 17,
   "id": "e9eb651e",
   "metadata": {},
   "outputs": [
    {
     "name": "stderr",
     "output_type": "stream",
     "text": [
      "[nltk_data] Downloading package stopwords to\n",
      "[nltk_data]     C:\\Users\\DELL\\AppData\\Roaming\\nltk_data...\n",
      "[nltk_data]   Package stopwords is already up-to-date!\n",
      "[nltk_data] Downloading package punkt to\n",
      "[nltk_data]     C:\\Users\\DELL\\AppData\\Roaming\\nltk_data...\n",
      "[nltk_data]   Package punkt is already up-to-date!\n"
     ]
    }
   ],
   "source": [
    "import nltk\n",
    "nltk.download('stopwords')\n",
    "nltk.download('punkt')\n",
    "stop_words = set(stopwords.words('english'))"
   ]
  },
  {
   "cell_type": "markdown",
   "id": "901f7446",
   "metadata": {},
   "source": [
    "## A. How many sentence in the file??"
   ]
  },
  {
   "cell_type": "code",
   "execution_count": 18,
   "id": "30d8e128",
   "metadata": {},
   "outputs": [
    {
     "data": {
      "text/plain": [
       "5"
      ]
     },
     "execution_count": 18,
     "metadata": {},
     "output_type": "execute_result"
    }
   ],
   "source": [
    "from nltk.tokenize import sent_tokenize\n",
    "sentences=sent_tokenize(txt1)\n",
    "len(sentences)"
   ]
  },
  {
   "cell_type": "markdown",
   "id": "307bee3a",
   "metadata": {},
   "source": [
    "## B. How many words in the file??"
   ]
  },
  {
   "cell_type": "code",
   "execution_count": 19,
   "id": "3c53ce96",
   "metadata": {},
   "outputs": [
    {
     "data": {
      "text/plain": [
       "155"
      ]
     },
     "execution_count": 19,
     "metadata": {},
     "output_type": "execute_result"
    }
   ],
   "source": [
    "from nltk.tokenize import word_tokenize\n",
    "words_in = nltk.tokenize.WhitespaceTokenizer()\n",
    "words = words_in.tokenize(txt1)\n",
    "len(words)\n"
   ]
  },
  {
   "cell_type": "markdown",
   "id": "434a2dc4",
   "metadata": {},
   "source": [
    "## C. What are the top 10 words and their counts??"
   ]
  },
  {
   "cell_type": "code",
   "execution_count": 20,
   "id": "f25e649a",
   "metadata": {},
   "outputs": [
    {
     "data": {
      "text/plain": [
       "[('the', 10),\n",
       " ('a', 6),\n",
       " ('of', 6),\n",
       " ('is', 6),\n",
       " ('his', 4),\n",
       " ('-', 4),\n",
       " ('in', 3),\n",
       " ('as', 2),\n",
       " ('but', 2),\n",
       " ('by', 2)]"
      ]
     },
     "execution_count": 20,
     "metadata": {},
     "output_type": "execute_result"
    }
   ],
   "source": [
    "top_10 = FreqDist(words)\n",
    "top_10.most_common(10)"
   ]
  },
  {
   "cell_type": "markdown",
   "id": "441e4e8f",
   "metadata": {},
   "source": [
    "## D. How many different POS tags are represented in this file??"
   ]
  },
  {
   "cell_type": "code",
   "execution_count": 21,
   "id": "8dce5783",
   "metadata": {},
   "outputs": [
    {
     "name": "stderr",
     "output_type": "stream",
     "text": [
      "[nltk_data] Downloading package averaged_perceptron_tagger to\n",
      "[nltk_data]     C:\\Users\\DELL\\AppData\\Roaming\\nltk_data...\n",
      "[nltk_data]   Package averaged_perceptron_tagger is already up-to-\n",
      "[nltk_data]       date!\n"
     ]
    }
   ],
   "source": [
    "nltk.download('averaged_perceptron_tagger')\n",
    "tag = []\n",
    "d_tags = []\n",
    "words = [w for w in words if not w in stop_words] \n",
    "tagged = nltk.pos_tag(words)\n",
    "for i in tagged:\n",
    "    (word,pos)=i\n",
    "    tag.append(pos)\n",
    "    for j in tag:\n",
    "        if j not in d_tags:\n",
    "            d_tags.append(j)\n",
    "            len(d_tags)"
   ]
  },
  {
   "cell_type": "markdown",
   "id": "35811241",
   "metadata": {},
   "source": [
    "## E. What are the top 10 POS tags and their counts??"
   ]
  },
  {
   "cell_type": "code",
   "execution_count": 22,
   "id": "27669788",
   "metadata": {},
   "outputs": [
    {
     "data": {
      "text/plain": [
       "[(('-', ':'), 4),\n",
       " (('rather', 'RB'), 2),\n",
       " ((\"Lumet's\", 'NNP'), 1),\n",
       " (('origins', 'VBZ'), 1),\n",
       " (('director', 'NN'), 1),\n",
       " (('teledrama', 'NN'), 1),\n",
       " (('may', 'MD'), 1),\n",
       " (('well', 'RB'), 1),\n",
       " (('obvious', 'VB'), 1),\n",
       " (('first', 'JJ'), 1)]"
      ]
     },
     "execution_count": 22,
     "metadata": {},
     "output_type": "execute_result"
    }
   ],
   "source": [
    "top_pos = FreqDist(tagged)\n",
    "top_pos.most_common(10)"
   ]
  },
  {
   "cell_type": "markdown",
   "id": "d22aa304",
   "metadata": {},
   "source": [
    "## F. How many nouns in the file??\n"
   ]
  },
  {
   "cell_type": "code",
   "execution_count": 23,
   "id": "2e185c47",
   "metadata": {},
   "outputs": [
    {
     "name": "stdout",
     "output_type": "stream",
     "text": [
      "1\n",
      "2\n",
      "3\n",
      "4\n",
      "5\n",
      "6\n",
      "7\n",
      "8\n",
      "9\n",
      "10\n",
      "11\n",
      "12\n",
      "13\n",
      "14\n",
      "15\n",
      "16\n",
      "17\n",
      "18\n",
      "19\n",
      "20\n",
      "21\n",
      "22\n",
      "23\n",
      "24\n",
      "25\n",
      "26\n",
      "27\n",
      "28\n",
      "29\n",
      "30\n",
      "31\n",
      "32\n",
      "33\n",
      "34\n",
      "35\n",
      "36\n",
      "37\n",
      "38\n",
      "39\n",
      "40\n",
      "41\n"
     ]
    }
   ],
   "source": [
    "noun=0\n",
    "for i in top_pos.keys():\n",
    "    (word,pos)=i\n",
    "    if pos == 'NN' or pos == 'NNS' or pos == 'NNP' or pos == 'NNPS':\n",
    "        noun+=1\n",
    "        print(noun)"
   ]
  },
  {
   "cell_type": "markdown",
   "id": "77de58e1",
   "metadata": {},
   "source": [
    "## G. How many verbs in the file??\n"
   ]
  },
  {
   "cell_type": "code",
   "execution_count": 24,
   "id": "dc7c5428",
   "metadata": {},
   "outputs": [
    {
     "name": "stdout",
     "output_type": "stream",
     "text": [
      "1\n",
      "2\n",
      "3\n",
      "4\n",
      "5\n",
      "6\n",
      "7\n",
      "8\n",
      "9\n",
      "10\n"
     ]
    }
   ],
   "source": [
    "verbs=0\n",
    "for i in top_pos.keys():\n",
    "    (word,pos)=i\n",
    "    if pos == 'VB' or pos == 'VBD' or pos == 'VBN' or pos == 'VBP' or pos == 'VBZ':\n",
    "        verbs+=1\n",
    "        print(verbs)"
   ]
  },
  {
   "cell_type": "markdown",
   "id": "26df422d",
   "metadata": {},
   "source": [
    "## H. How many adjectives in the file??"
   ]
  },
  {
   "cell_type": "code",
   "execution_count": 25,
   "id": "9d9f37b4",
   "metadata": {},
   "outputs": [
    {
     "data": {
      "text/plain": [
       "19"
      ]
     },
     "execution_count": 25,
     "metadata": {},
     "output_type": "execute_result"
    }
   ],
   "source": [
    "adj = []\n",
    "for i in top_pos.keys():\n",
    "    (word,pos)=i\n",
    "    if pos == 'JJ' or pos == 'JJR' or pos == 'JJS':\n",
    "        adj.append(i)\n",
    "len(adj)"
   ]
  },
  {
   "cell_type": "markdown",
   "id": "01d5f590",
   "metadata": {},
   "source": [
    "## I.  How many adverbs in the file??"
   ]
  },
  {
   "cell_type": "code",
   "execution_count": 26,
   "id": "b14c0ee6",
   "metadata": {},
   "outputs": [
    {
     "data": {
      "text/plain": [
       "13"
      ]
     },
     "execution_count": 26,
     "metadata": {},
     "output_type": "execute_result"
    }
   ],
   "source": [
    "adv=[]\n",
    "for i in top_pos.keys():\n",
    "    (word,pos)=i\n",
    "    if pos == 'RB' or pos == 'RBR' or pos == 'RBS' or pos == 'BP':\n",
    "        adv.append(i)\n",
    "len(adv)"
   ]
  },
  {
   "cell_type": "markdown",
   "id": "3b0169b9",
   "metadata": {},
   "source": [
    "## J. What is the most frequent adverb??"
   ]
  },
  {
   "cell_type": "code",
   "execution_count": 27,
   "id": "f02bf835",
   "metadata": {},
   "outputs": [
    {
     "data": {
      "text/plain": [
       "[(('well', 'RB'), 1)]"
      ]
     },
     "execution_count": 27,
     "metadata": {},
     "output_type": "execute_result"
    }
   ],
   "source": [
    "adv = FreqDist(adv)\n",
    "adv.most_common(1)"
   ]
  },
  {
   "cell_type": "markdown",
   "id": "98b00224",
   "metadata": {},
   "source": [
    "## K. What is the most frequent adjective??"
   ]
  },
  {
   "cell_type": "code",
   "execution_count": 15,
   "id": "6896e3f5",
   "metadata": {},
   "outputs": [
    {
     "data": {
      "text/plain": [
       "[(('first', 'JJ'), 1)]"
      ]
     },
     "execution_count": 15,
     "metadata": {},
     "output_type": "execute_result"
    }
   ],
   "source": [
    "adj = FreqDist(adj)\n",
    "adj.most_common(1)"
   ]
  }
 ],
 "metadata": {
  "kernelspec": {
   "display_name": "Python 3 (ipykernel)",
   "language": "python",
   "name": "python3"
  },
  "language_info": {
   "codemirror_mode": {
    "name": "ipython",
    "version": 3
   },
   "file_extension": ".py",
   "mimetype": "text/x-python",
   "name": "python",
   "nbconvert_exporter": "python",
   "pygments_lexer": "ipython3",
   "version": "3.9.12"
  }
 },
 "nbformat": 4,
 "nbformat_minor": 5
}
